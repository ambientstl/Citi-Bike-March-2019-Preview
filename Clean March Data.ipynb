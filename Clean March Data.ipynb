{
 "cells": [
  {
   "cell_type": "code",
   "execution_count": 1,
   "metadata": {},
   "outputs": [],
   "source": [
    "import pandas as pd\n",
    "import datetime as dt\n",
    "\n",
    "#paths to march csvs\n",
    "march2018 = \"Resources/201803-citibike-tripdata.csv\"\n",
    "march2017 = \"Resources/201703-citibike-tripdata.csv\"\n",
    "march2016 = \"Resources/201603-citibike-tripdata.csv\""
   ]
  },
  {
   "cell_type": "code",
   "execution_count": 2,
   "metadata": {},
   "outputs": [
    {
     "data": {
      "text/plain": [
       "['tripduration',\n",
       " 'starttime',\n",
       " 'stoptime',\n",
       " 'start station id',\n",
       " 'start station name',\n",
       " 'start station latitude',\n",
       " 'start station longitude',\n",
       " 'end station id',\n",
       " 'end station name',\n",
       " 'end station latitude',\n",
       " 'end station longitude',\n",
       " 'bikeid',\n",
       " 'usertype',\n",
       " 'birth year',\n",
       " 'gender']"
      ]
     },
     "execution_count": 2,
     "metadata": {},
     "output_type": "execute_result"
    }
   ],
   "source": [
    "#import march 2018 data\n",
    "df2018 = pd.read_csv(march2018)\n",
    "df2018.columns.tolist()"
   ]
  },
  {
   "cell_type": "code",
   "execution_count": 3,
   "metadata": {},
   "outputs": [
    {
     "data": {
      "text/plain": [
       "['Trip Duration',\n",
       " 'Start Time',\n",
       " 'Stop Time',\n",
       " 'Start Station ID',\n",
       " 'Start Station Name',\n",
       " 'Start Station Latitude',\n",
       " 'Start Station Longitude',\n",
       " 'End Station ID',\n",
       " 'End Station Name',\n",
       " 'End Station Latitude',\n",
       " 'End Station Longitude',\n",
       " 'Bike ID',\n",
       " 'User Type',\n",
       " 'Birth Year',\n",
       " 'Gender']"
      ]
     },
     "execution_count": 3,
     "metadata": {},
     "output_type": "execute_result"
    }
   ],
   "source": [
    "#import march 2017 data\n",
    "df2017 = pd.read_csv(march2017)\n",
    "df2017.columns.tolist()"
   ]
  },
  {
   "cell_type": "code",
   "execution_count": 4,
   "metadata": {},
   "outputs": [],
   "source": [
    "# #locate station in canada\n",
    "# start8D = df2018.loc[df2018['start station name'] == \"8D Mobile 01\", :]\n",
    "# len(start8D)"
   ]
  },
  {
   "cell_type": "code",
   "execution_count": 5,
   "metadata": {},
   "outputs": [],
   "source": [
    "# #locate all data misrepresentations gender=0,birthyear=69\n",
    "# badDataDF = df2018.loc[(df2018['gender'] == 0) & (df2018['birth year'] == 1969), :]\n",
    "# len(badDataDF)"
   ]
  },
  {
   "cell_type": "code",
   "execution_count": 6,
   "metadata": {},
   "outputs": [
    {
     "data": {
      "text/plain": [
       "['tripduration',\n",
       " 'starttime',\n",
       " 'stoptime',\n",
       " 'start station id',\n",
       " 'start station name',\n",
       " 'start station latitude',\n",
       " 'start station longitude',\n",
       " 'end station id',\n",
       " 'end station name',\n",
       " 'end station latitude',\n",
       " 'end station longitude',\n",
       " 'bikeid',\n",
       " 'usertype',\n",
       " 'birth year',\n",
       " 'gender']"
      ]
     },
     "execution_count": 6,
     "metadata": {},
     "output_type": "execute_result"
    }
   ],
   "source": [
    "#import march 2016 data\n",
    "df2016 = pd.read_csv(march2016)\n",
    "df2016.columns.tolist()"
   ]
  },
  {
   "cell_type": "code",
   "execution_count": 7,
   "metadata": {},
   "outputs": [],
   "source": [
    "#isolate 2018 start and stop dates/times\n",
    "df2018[\"Start Date\"] = [df2018[\"starttime\"][i].split(\" \")[0] for i in range(len(df2018))]\n",
    "df2018[\"Stop Date\"] = [df2018[\"stoptime\"][i].split(\" \")[0] for i in range(len(df2018))]\n",
    "df2018[\"Start Time\"] = [df2018[\"starttime\"][i].split(\" \")[1] for i in range(len(df2018))]\n",
    "df2018[\"Stop Time\"] = [df2018[\"stoptime\"][i].split(\" \")[1] for i in range(len(df2018))]"
   ]
  },
  {
   "cell_type": "code",
   "execution_count": 8,
   "metadata": {},
   "outputs": [
    {
     "data": {
      "text/html": [
       "<div>\n",
       "<style scoped>\n",
       "    .dataframe tbody tr th:only-of-type {\n",
       "        vertical-align: middle;\n",
       "    }\n",
       "\n",
       "    .dataframe tbody tr th {\n",
       "        vertical-align: top;\n",
       "    }\n",
       "\n",
       "    .dataframe thead th {\n",
       "        text-align: right;\n",
       "    }\n",
       "</style>\n",
       "<table border=\"1\" class=\"dataframe\">\n",
       "  <thead>\n",
       "    <tr style=\"text-align: right;\">\n",
       "      <th></th>\n",
       "      <th>tripduration</th>\n",
       "      <th>starttime</th>\n",
       "      <th>stoptime</th>\n",
       "      <th>start station id</th>\n",
       "      <th>start station name</th>\n",
       "      <th>start station latitude</th>\n",
       "      <th>start station longitude</th>\n",
       "      <th>end station id</th>\n",
       "      <th>end station name</th>\n",
       "      <th>end station latitude</th>\n",
       "      <th>end station longitude</th>\n",
       "      <th>bikeid</th>\n",
       "      <th>usertype</th>\n",
       "      <th>birth year</th>\n",
       "      <th>gender</th>\n",
       "      <th>Start Date</th>\n",
       "      <th>Stop Date</th>\n",
       "      <th>Start Time</th>\n",
       "      <th>Stop Time</th>\n",
       "    </tr>\n",
       "  </thead>\n",
       "  <tbody>\n",
       "    <tr>\n",
       "      <th>0</th>\n",
       "      <td>1491</td>\n",
       "      <td>3/1/2016 06:52:42</td>\n",
       "      <td>3/1/2016 07:17:33</td>\n",
       "      <td>72</td>\n",
       "      <td>W 52 St &amp; 11 Ave</td>\n",
       "      <td>40.767272</td>\n",
       "      <td>-73.993929</td>\n",
       "      <td>427</td>\n",
       "      <td>Bus Slip &amp; State St</td>\n",
       "      <td>40.701907</td>\n",
       "      <td>-74.013942</td>\n",
       "      <td>23914</td>\n",
       "      <td>Subscriber</td>\n",
       "      <td>1982.0</td>\n",
       "      <td>1</td>\n",
       "      <td>2016-03-01</td>\n",
       "      <td>2016-03-01</td>\n",
       "      <td>06:52:42</td>\n",
       "      <td>07:17:33</td>\n",
       "    </tr>\n",
       "    <tr>\n",
       "      <th>1</th>\n",
       "      <td>1044</td>\n",
       "      <td>3/1/2016 07:05:50</td>\n",
       "      <td>3/1/2016 07:23:15</td>\n",
       "      <td>72</td>\n",
       "      <td>W 52 St &amp; 11 Ave</td>\n",
       "      <td>40.767272</td>\n",
       "      <td>-73.993929</td>\n",
       "      <td>254</td>\n",
       "      <td>W 11 St &amp; 6 Ave</td>\n",
       "      <td>40.735324</td>\n",
       "      <td>-73.998004</td>\n",
       "      <td>23697</td>\n",
       "      <td>Subscriber</td>\n",
       "      <td>1978.0</td>\n",
       "      <td>1</td>\n",
       "      <td>2016-03-01</td>\n",
       "      <td>2016-03-01</td>\n",
       "      <td>07:05:50</td>\n",
       "      <td>07:23:15</td>\n",
       "    </tr>\n",
       "  </tbody>\n",
       "</table>\n",
       "</div>"
      ],
      "text/plain": [
       "   tripduration          starttime           stoptime  start station id  \\\n",
       "0          1491  3/1/2016 06:52:42  3/1/2016 07:17:33                72   \n",
       "1          1044  3/1/2016 07:05:50  3/1/2016 07:23:15                72   \n",
       "\n",
       "  start station name  start station latitude  start station longitude  \\\n",
       "0   W 52 St & 11 Ave               40.767272               -73.993929   \n",
       "1   W 52 St & 11 Ave               40.767272               -73.993929   \n",
       "\n",
       "   end station id     end station name  end station latitude  \\\n",
       "0             427  Bus Slip & State St             40.701907   \n",
       "1             254      W 11 St & 6 Ave             40.735324   \n",
       "\n",
       "   end station longitude  bikeid    usertype  birth year  gender  Start Date  \\\n",
       "0             -74.013942   23914  Subscriber      1982.0       1  2016-03-01   \n",
       "1             -73.998004   23697  Subscriber      1978.0       1  2016-03-01   \n",
       "\n",
       "    Stop Date Start Time Stop Time  \n",
       "0  2016-03-01   06:52:42  07:17:33  \n",
       "1  2016-03-01   07:05:50  07:23:15  "
      ]
     },
     "execution_count": 8,
     "metadata": {},
     "output_type": "execute_result"
    }
   ],
   "source": [
    "#isolate 2016 start and stop dates/times\n",
    "df2016[\"Start Date\"] = [df2016[\"starttime\"][i].split(\" \")[0] for i in range(len(df2016))]\n",
    "df2016[\"Stop Date\"] = [df2016[\"stoptime\"][i].split(\" \")[0] for i in range(len(df2016))]\n",
    "df2016[\"Start Time\"] = [df2016[\"starttime\"][i].split(\" \")[1] for i in range(len(df2016))]\n",
    "df2016[\"Stop Time\"] = [df2016[\"stoptime\"][i].split(\" \")[1] for i in range(len(df2016))]\n",
    "\n",
    "df2016[\"Start Date\"] = [df2016[\"Start Date\"][i] for i in range(len(df2016))]\n",
    "df2016[\"Stop Date\"] = [df2016[\"Stop Date\"][i] for i in range(len(df2016))]\n",
    "\n",
    "#change date format from m/d/yyyy to yyyy-mm-dd\n",
    "start_fmt = []\n",
    "stop_fmt = []\n",
    "for i in range(len(df2016)):\n",
    "    split_start = df2016[\"Start Date\"][i].split(\"/\")\n",
    "    split_stop = df2016[\"Stop Date\"][i].split(\"/\")\n",
    "    start_month = split_start[0].zfill(2)\n",
    "    start_day = split_start[1].zfill(2)\n",
    "    stop_month = split_stop[0].zfill(2)\n",
    "    stop_day = split_stop[1].zfill(2)\n",
    "    start_date = split_start[2]+\"-\"+start_month+\"-\"+start_day\n",
    "    stop_date = split_stop[2]+\"-\"+stop_month+\"-\"+stop_day\n",
    "    start_fmt.append(start_date)\n",
    "    stop_fmt.append(stop_date)\n",
    "df2016[\"Start Date\"] = start_fmt\n",
    "df2016[\"Stop Date\"] = stop_fmt\n",
    "\n",
    "df2016.head(2)"
   ]
  },
  {
   "cell_type": "code",
   "execution_count": 9,
   "metadata": {},
   "outputs": [],
   "source": [
    "#isolate 2017 start and stop dates/times\n",
    "df2017[\"Start Date\"] = [df2017[\"Start Time\"][i].split(\" \")[0] for i in range(len(df2017))]\n",
    "df2017[\"Stop Date\"] = [df2017[\"Stop Time\"][i].split(\" \")[0] for i in range(len(df2017))]\n",
    "df2017[\"Start Time\"] = [df2017[\"Start Time\"][i].split(\" \")[1] for i in range(len(df2017))]\n",
    "df2017[\"Stop Time\"] = [df2017[\"Stop Time\"][i].split(\" \")[1] for i in range(len(df2017))]"
   ]
  },
  {
   "cell_type": "code",
   "execution_count": 10,
   "metadata": {},
   "outputs": [
    {
     "data": {
      "text/plain": [
       "['Trip Duration',\n",
       " 'Starttime',\n",
       " 'Stoptime',\n",
       " 'Start Station Id',\n",
       " 'Start Station Name',\n",
       " 'Start Station Latitude',\n",
       " 'Start Station Longitude',\n",
       " 'End Station Id',\n",
       " 'End Station Name',\n",
       " 'End Station Latitude',\n",
       " 'End Station Longitude',\n",
       " 'Bike Id',\n",
       " 'User Type',\n",
       " 'Birth Year',\n",
       " 'Gender',\n",
       " 'Start Date',\n",
       " 'Stop Date',\n",
       " 'Start Time',\n",
       " 'Stop Time']"
      ]
     },
     "execution_count": 10,
     "metadata": {},
     "output_type": "execute_result"
    }
   ],
   "source": [
    "#rename columns\n",
    "df2016 = df2016.rename(columns={\"tripduration\": \"Trip Duration\", \"bikeid\": \"Bike ID\", \"usertype\": \"User Type\"})\n",
    "df2018 = df2018.rename(columns={\"tripduration\": \"Trip Duration\", \"bikeid\": \"Bike ID\", \"usertype\": \"User Type\"})\n",
    "\n",
    "columns_list = df2016.columns.tolist()\n",
    "\n",
    "#change 2016 and 2018 columns to title case ot match 2017 columns\n",
    "for column in columns_list:\n",
    "    fmt_column = column.title()\n",
    "    df2016 = df2016.rename(columns={column: fmt_column})\n",
    "    df2018 = df2018.rename(columns={column: fmt_column})\n",
    "df2016.columns.tolist()"
   ]
  },
  {
   "cell_type": "code",
   "execution_count": 11,
   "metadata": {},
   "outputs": [
    {
     "data": {
      "text/plain": [
       "['Trip Duration',\n",
       " 'Start Time',\n",
       " 'Stop Time',\n",
       " 'Start Station ID',\n",
       " 'Start Station Name',\n",
       " 'Start Station Latitude',\n",
       " 'Start Station Longitude',\n",
       " 'End Station ID',\n",
       " 'End Station Name',\n",
       " 'End Station Latitude',\n",
       " 'End Station Longitude',\n",
       " 'Bike ID',\n",
       " 'User Type',\n",
       " 'Birth Year',\n",
       " 'Gender',\n",
       " 'Start Date',\n",
       " 'Stop Date']"
      ]
     },
     "execution_count": 11,
     "metadata": {},
     "output_type": "execute_result"
    }
   ],
   "source": [
    "df2017.columns.tolist()"
   ]
  },
  {
   "cell_type": "code",
   "execution_count": 12,
   "metadata": {},
   "outputs": [
    {
     "data": {
      "text/plain": [
       "['Trip Duration',\n",
       " 'Starttime',\n",
       " 'Stoptime',\n",
       " 'Start Station Id',\n",
       " 'Start Station Name',\n",
       " 'Start Station Latitude',\n",
       " 'Start Station Longitude',\n",
       " 'End Station Id',\n",
       " 'End Station Name',\n",
       " 'End Station Latitude',\n",
       " 'End Station Longitude',\n",
       " 'Bike Id',\n",
       " 'User Type',\n",
       " 'Birth Year',\n",
       " 'Gender',\n",
       " 'Start Date',\n",
       " 'Stop Date',\n",
       " 'Start Time',\n",
       " 'Stop Time']"
      ]
     },
     "execution_count": 12,
     "metadata": {},
     "output_type": "execute_result"
    }
   ],
   "source": [
    "df2018.columns.tolist()"
   ]
  },
  {
   "cell_type": "code",
   "execution_count": 13,
   "metadata": {},
   "outputs": [],
   "source": [
    "#rename columns: change \"Id\" to \"ID\"\n",
    "df2016 = df2016.rename(columns={\"Start Station Id\": \"Start Station ID\", \"End Station Id\": \"End Station ID\", \"Bike Id\": \"Bike ID\"})\n",
    "df2018 = df2018.rename(columns={\"Start Station Id\": \"Start Station ID\", \"End Station Id\": \"End Station ID\", \"Bike Id\": \"Bike ID\"})\n",
    "\n",
    "ordered_columns = ['Trip Duration',\n",
    " 'Start Date',\n",
    " 'Start Time',\n",
    " 'Stop Date',\n",
    " 'Stop Time',\n",
    " 'Start Station ID',\n",
    " 'Start Station Name',\n",
    " 'Start Station Latitude',\n",
    " 'Start Station Longitude',\n",
    " 'End Station ID',\n",
    " 'End Station Name',\n",
    " 'End Station Latitude',\n",
    " 'End Station Longitude',\n",
    " 'Bike ID',\n",
    " 'User Type',\n",
    " 'Birth Year',\n",
    " 'Gender']\n",
    "\n",
    "df2018 = df2018[ordered_columns]\n",
    "df2017 = df2017[ordered_columns]\n",
    "df2016 = df2016[ordered_columns]"
   ]
  },
  {
   "cell_type": "code",
   "execution_count": 14,
   "metadata": {},
   "outputs": [
    {
     "data": {
      "text/plain": [
       "976672"
      ]
     },
     "execution_count": 14,
     "metadata": {},
     "output_type": "execute_result"
    }
   ],
   "source": [
    "len(df2018)"
   ]
  },
  {
   "cell_type": "code",
   "execution_count": 15,
   "metadata": {},
   "outputs": [
    {
     "data": {
      "text/plain": [
       "727665"
      ]
     },
     "execution_count": 15,
     "metadata": {},
     "output_type": "execute_result"
    }
   ],
   "source": [
    "len(df2017)"
   ]
  },
  {
   "cell_type": "code",
   "execution_count": 16,
   "metadata": {},
   "outputs": [
    {
     "data": {
      "text/plain": [
       "919921"
      ]
     },
     "execution_count": 16,
     "metadata": {},
     "output_type": "execute_result"
    }
   ],
   "source": [
    "len(df2016)"
   ]
  },
  {
   "cell_type": "code",
   "execution_count": 17,
   "metadata": {},
   "outputs": [
    {
     "data": {
      "text/plain": [
       "965496"
      ]
     },
     "execution_count": 17,
     "metadata": {},
     "output_type": "execute_result"
    }
   ],
   "source": [
    "#2018 data cleaning: remove extra short or long trips, and a station that appears to be in Quebec\n",
    "clean_df2018 = df2018.loc[(df2018[\"Trip Duration\"] > 99) & \n",
    "                          (df2018[\"Trip Duration\"] < 15000) & \n",
    "                          (df2018[\"Start Station Name\"] != \"8D Mobile 01\"), :]\n",
    "len(clean_df2018)"
   ]
  },
  {
   "cell_type": "code",
   "execution_count": 18,
   "metadata": {},
   "outputs": [
    {
     "data": {
      "text/plain": [
       "721420"
      ]
     },
     "execution_count": 18,
     "metadata": {},
     "output_type": "execute_result"
    }
   ],
   "source": [
    "#2017 data cleaning\n",
    "clean_df2017 = df2017.loc[(df2017[\"Trip Duration\"] > 99) & \n",
    "                          (df2017[\"Trip Duration\"] < 15000) & \n",
    "                          (df2017[\"Start Station Name\"] != \"8D Mobile 01\"), :]\n",
    "len(clean_df2017)"
   ]
  },
  {
   "cell_type": "code",
   "execution_count": 19,
   "metadata": {},
   "outputs": [
    {
     "data": {
      "text/plain": [
       "912151"
      ]
     },
     "execution_count": 19,
     "metadata": {},
     "output_type": "execute_result"
    }
   ],
   "source": [
    "#2016 data cleaning\n",
    "clean_df2016 = df2016.loc[(df2016[\"Trip Duration\"] > 99) & \n",
    "                          (df2016[\"Trip Duration\"] < 15000) & \n",
    "                          (df2016[\"Start Station Name\"] != \"8D Mobile 01\"), :]\n",
    "len(clean_df2016)"
   ]
  },
  {
   "cell_type": "code",
   "execution_count": 20,
   "metadata": {},
   "outputs": [
    {
     "data": {
      "text/plain": [
       "2599067"
      ]
     },
     "execution_count": 20,
     "metadata": {},
     "output_type": "execute_result"
    }
   ],
   "source": [
    "#combine dataframes\n",
    "combined_df = clean_df2018.append([clean_df2017, clean_df2016], ignore_index=True)\n",
    "len(combined_df)"
   ]
  },
  {
   "cell_type": "code",
   "execution_count": 21,
   "metadata": {},
   "outputs": [],
   "source": [
    "#save combined dataframe to csv\n",
    "combined_df.to_csv(\"Resources/Clean_March_2016-18.csv\")"
   ]
  }
 ],
 "metadata": {
  "kernelspec": {
   "display_name": "Python 3",
   "language": "python",
   "name": "python3"
  },
  "language_info": {
   "codemirror_mode": {
    "name": "ipython",
    "version": 3
   },
   "file_extension": ".py",
   "mimetype": "text/x-python",
   "name": "python",
   "nbconvert_exporter": "python",
   "pygments_lexer": "ipython3",
   "version": "3.6.5"
  }
 },
 "nbformat": 4,
 "nbformat_minor": 2
}
